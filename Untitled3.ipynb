{
  "nbformat": 4,
  "nbformat_minor": 0,
  "metadata": {
    "colab": {
      "provenance": [],
      "authorship_tag": "ABX9TyP264zZPssubx2RXaU4wOYQ",
      "include_colab_link": true
    },
    "kernelspec": {
      "name": "python3",
      "display_name": "Python 3"
    },
    "language_info": {
      "name": "python"
    }
  },
  "cells": [
    {
      "cell_type": "markdown",
      "metadata": {
        "id": "view-in-github",
        "colab_type": "text"
      },
      "source": [
        "<a href=\"https://colab.research.google.com/github/sh1nadots/sh1nadots/blob/main/Untitled3.ipynb\" target=\"_parent\"><img src=\"https://colab.research.google.com/assets/colab-badge.svg\" alt=\"Open In Colab\"/></a>"
      ]
    },
    {
      "cell_type": "code",
      "execution_count": null,
      "metadata": {
        "colab": {
          "base_uri": "https://localhost:8080/"
        },
        "id": "o3levX79_siN",
        "outputId": "9c7a8589-452c-4db1-a480-4f9aad84f6a6"
      },
      "outputs": [
        {
          "output_type": "stream",
          "name": "stdout",
          "text": [
            "Collecting selenium\n",
            "  Downloading selenium-4.10.0-py3-none-any.whl (6.7 MB)\n",
            "\u001b[?25l     \u001b[90m━━━━━━━━━━━━━━━━━━━━━━━━━━━━━━━━━━━━━━━━\u001b[0m \u001b[32m0.0/6.7 MB\u001b[0m \u001b[31m?\u001b[0m eta \u001b[36m-:--:--\u001b[0m\r\u001b[2K     \u001b[91m━━━━━━━\u001b[0m\u001b[90m╺\u001b[0m\u001b[90m━━━━━━━━━━━━━━━━━━━━━━━━━━━━━━━━\u001b[0m \u001b[32m1.2/6.7 MB\u001b[0m \u001b[31m36.0 MB/s\u001b[0m eta \u001b[36m0:00:01\u001b[0m\r\u001b[2K     \u001b[91m━━━━━━━━━━━━━━━━━━━━━━━━━━━━━━━━━━━━━━━\u001b[0m\u001b[91m╸\u001b[0m \u001b[32m6.7/6.7 MB\u001b[0m \u001b[31m101.9 MB/s\u001b[0m eta \u001b[36m0:00:01\u001b[0m\r\u001b[2K     \u001b[90m━━━━━━━━━━━━━━━━━━━━━━━━━━━━━━━━━━━━━━━━\u001b[0m \u001b[32m6.7/6.7 MB\u001b[0m \u001b[31m67.8 MB/s\u001b[0m eta \u001b[36m0:00:00\u001b[0m\n",
            "\u001b[?25hRequirement already satisfied: urllib3[socks]<3,>=1.26 in /usr/local/lib/python3.10/dist-packages (from selenium) (1.26.16)\n",
            "Collecting trio~=0.17 (from selenium)\n",
            "  Downloading trio-0.22.0-py3-none-any.whl (384 kB)\n",
            "\u001b[?25l     \u001b[90m━━━━━━━━━━━━━━━━━━━━━━━━━━━━━━━━━━━━━━━━\u001b[0m \u001b[32m0.0/384.9 kB\u001b[0m \u001b[31m?\u001b[0m eta \u001b[36m-:--:--\u001b[0m\r\u001b[2K     \u001b[90m━━━━━━━━━━━━━━━━━━━━━━━━━━━━━━━━━━━━━━\u001b[0m \u001b[32m384.9/384.9 kB\u001b[0m \u001b[31m38.8 MB/s\u001b[0m eta \u001b[36m0:00:00\u001b[0m\n",
            "\u001b[?25hCollecting trio-websocket~=0.9 (from selenium)\n",
            "  Downloading trio_websocket-0.10.3-py3-none-any.whl (17 kB)\n",
            "Requirement already satisfied: certifi>=2021.10.8 in /usr/local/lib/python3.10/dist-packages (from selenium) (2023.5.7)\n",
            "Requirement already satisfied: attrs>=19.2.0 in /usr/local/lib/python3.10/dist-packages (from trio~=0.17->selenium) (23.1.0)\n",
            "Requirement already satisfied: sortedcontainers in /usr/local/lib/python3.10/dist-packages (from trio~=0.17->selenium) (2.4.0)\n",
            "Collecting async-generator>=1.9 (from trio~=0.17->selenium)\n",
            "  Downloading async_generator-1.10-py3-none-any.whl (18 kB)\n",
            "Requirement already satisfied: idna in /usr/local/lib/python3.10/dist-packages (from trio~=0.17->selenium) (3.4)\n",
            "Collecting outcome (from trio~=0.17->selenium)\n",
            "  Downloading outcome-1.2.0-py2.py3-none-any.whl (9.7 kB)\n",
            "Requirement already satisfied: sniffio in /usr/local/lib/python3.10/dist-packages (from trio~=0.17->selenium) (1.3.0)\n",
            "Requirement already satisfied: exceptiongroup>=1.0.0rc9 in /usr/local/lib/python3.10/dist-packages (from trio~=0.17->selenium) (1.1.1)\n",
            "Collecting wsproto>=0.14 (from trio-websocket~=0.9->selenium)\n",
            "  Downloading wsproto-1.2.0-py3-none-any.whl (24 kB)\n",
            "Requirement already satisfied: PySocks!=1.5.7,<2.0,>=1.5.6 in /usr/local/lib/python3.10/dist-packages (from urllib3[socks]<3,>=1.26->selenium) (1.7.1)\n",
            "Collecting h11<1,>=0.9.0 (from wsproto>=0.14->trio-websocket~=0.9->selenium)\n",
            "  Downloading h11-0.14.0-py3-none-any.whl (58 kB)\n",
            "\u001b[2K     \u001b[90m━━━━━━━━━━━━━━━━━━━━━━━━━━━━━━━━━━━━━━━━\u001b[0m \u001b[32m58.3/58.3 kB\u001b[0m \u001b[31m6.9 MB/s\u001b[0m eta \u001b[36m0:00:00\u001b[0m\n",
            "\u001b[?25hInstalling collected packages: outcome, h11, async-generator, wsproto, trio, trio-websocket, selenium\n",
            "Successfully installed async-generator-1.10 h11-0.14.0 outcome-1.2.0 selenium-4.10.0 trio-0.22.0 trio-websocket-0.10.3 wsproto-1.2.0\n"
          ]
        }
      ],
      "source": [
        "pip install selenium"
      ]
    },
    {
      "cell_type": "code",
      "source": [],
      "metadata": {
        "id": "golEjL4lJN4L"
      },
      "execution_count": null,
      "outputs": []
    },
    {
      "cell_type": "code",
      "source": [
        "pip install webdriver-manager"
      ],
      "metadata": {
        "colab": {
          "base_uri": "https://localhost:8080/"
        },
        "id": "knxDq23wAIsM",
        "outputId": "4974d447-43a3-4fa3-a471-5c1b42b16f56"
      },
      "execution_count": null,
      "outputs": [
        {
          "output_type": "stream",
          "name": "stdout",
          "text": [
            "Collecting webdriver-manager\n",
            "  Downloading webdriver_manager-3.8.6-py2.py3-none-any.whl (27 kB)\n",
            "Requirement already satisfied: requests in /usr/local/lib/python3.10/dist-packages (from webdriver-manager) (2.27.1)\n",
            "Collecting python-dotenv (from webdriver-manager)\n",
            "  Downloading python_dotenv-1.0.0-py3-none-any.whl (19 kB)\n",
            "Requirement already satisfied: tqdm in /usr/local/lib/python3.10/dist-packages (from webdriver-manager) (4.65.0)\n",
            "Requirement already satisfied: packaging in /usr/local/lib/python3.10/dist-packages (from webdriver-manager) (23.1)\n",
            "Requirement already satisfied: urllib3<1.27,>=1.21.1 in /usr/local/lib/python3.10/dist-packages (from requests->webdriver-manager) (1.26.16)\n",
            "Requirement already satisfied: certifi>=2017.4.17 in /usr/local/lib/python3.10/dist-packages (from requests->webdriver-manager) (2023.5.7)\n",
            "Requirement already satisfied: charset-normalizer~=2.0.0 in /usr/local/lib/python3.10/dist-packages (from requests->webdriver-manager) (2.0.12)\n",
            "Requirement already satisfied: idna<4,>=2.5 in /usr/local/lib/python3.10/dist-packages (from requests->webdriver-manager) (3.4)\n",
            "Installing collected packages: python-dotenv, webdriver-manager\n",
            "Successfully installed python-dotenv-1.0.0 webdriver-manager-3.8.6\n"
          ]
        }
      ]
    },
    {
      "cell_type": "code",
      "source": [
        "from selenium import webdriver\n",
        "from webdriver_manager.chrome import ChromeDriverManager\n",
        "from selenium.webdriver.chrome.service import Service\n",
        "\n",
        "servico = Service(ChromeDriverManager().install())\n",
        "\n",
        "navegador = webdriver.Chrome(service = servico)\n",
        "\n",
        "#Etapa 1:\n",
        "navegador.get(\"https://economia.uol.com.br/cotacoes/cambio/\")\n",
        "navegador.find_element('xpath', '//*[@id=\"cotacao-carousel\"]/div/p[2]')\n",
        "print (navegador.find_element)\n",
        "\n"
      ],
      "metadata": {
        "colab": {
          "base_uri": "https://localhost:8080/",
          "height": 130
        },
        "id": "c2h1pRx6AOVj",
        "outputId": "52a20558-8993-47fd-99e9-fb70851902fb"
      },
      "execution_count": null,
      "outputs": [
        {
          "output_type": "error",
          "ename": "SyntaxError",
          "evalue": "ignored",
          "traceback": [
            "\u001b[0;36m  File \u001b[0;32m\"<ipython-input-4-23a010785c5e>\"\u001b[0;36m, line \u001b[0;32m11\u001b[0m\n\u001b[0;31m    navegador.find_element(\"XPATH,//*[@id=\"knowledge-currency__updatable-data-column\"]/div[1]/div[2]/span[1]\")\u001b[0m\n\u001b[0m                           ^\u001b[0m\n\u001b[0;31mSyntaxError\u001b[0m\u001b[0;31m:\u001b[0m invalid syntax. Perhaps you forgot a comma?\n"
          ]
        }
      ]
    },
    {
      "cell_type": "code",
      "source": [
        "import selenium"
      ],
      "metadata": {
        "id": "qIETUe5IJPOA"
      },
      "execution_count": null,
      "outputs": []
    },
    {
      "cell_type": "code",
      "source": [
        "!pip install elenium.webdriver.support.expected_conditions"
      ],
      "metadata": {
        "colab": {
          "base_uri": "https://localhost:8080/"
        },
        "id": "8oRqRr4mnFhY",
        "outputId": "c8d48fd3-041c-49ba-d056-5881dc980c46"
      },
      "execution_count": null,
      "outputs": [
        {
          "output_type": "stream",
          "name": "stdout",
          "text": [
            "\u001b[31mERROR: Could not find a version that satisfies the requirement elenium.webdriver.support.expected_conditions (from versions: none)\u001b[0m\u001b[31m\n",
            "\u001b[0m\u001b[31mERROR: No matching distribution found for elenium.webdriver.support.expected_conditions\u001b[0m\u001b[31m\n",
            "\u001b[0m"
          ]
        }
      ]
    },
    {
      "cell_type": "code",
      "source": [
        "\n",
        "from selenium import webdriver\n",
        "from selenium.webdriver.chrome.options import Options\n",
        "from selenium.webdriver.common.by import By\n",
        "from selenium.webdriver.support.expected_conditions import _find_elements\n",
        "from selenium.webdriver.support.ui import WebDriverWait\n",
        "from selenium.common.exceptions import *\n",
        "from time import sleep\n",
        "import openpyxl\n",
        "import smtplib\n",
        "import os\n",
        "from email.message import EmailMessage\n",
        "import re\n",
        "\n",
        "class Scrappy:\n",
        "\n",
        "  def iniciar(self):\n",
        "    self.email_usuario()\n",
        "    self.raspagem_de_dados()\n",
        "    self.criar_planilha()\n",
        "    self.enviar_email_cliente()\n",
        "\n",
        "  def enviar_emai(self):\n",
        "    self.email = input(\n",
        "        'Digite o email para recebeer o relatorio de valores dos celulares!\\n')\n",
        "    self.email.lower()\n",
        "    self.senha = input('Digite a sua senha: ')\n",
        "\n",
        "    email_valido = re.search(\n",
        "        r'[a-zA-Z0-9]+@[a-zA-Z0-9]+\\.[a-zA-Z](1,3)$', self.email)\n",
        "    if email_valido:\n",
        "      print('email valido')\n",
        "\n",
        "  def raspagem_de_dados(self):\n",
        "    chrome_options = Options()\n",
        "    chrome_options.add_experimental_option(\n",
        "          'exlueSwitches', ['enable-loggin'])\n",
        "    chrome_options.add_argument ('--lang=pr-BR')\n",
        "    chrome_options.add_argument('\\--disable-notifications')\n",
        "    self.driver = webdriver.Chorme(executable_path=os.getcwd(\n",
        "    ) + os.sep + 'chromedriver.exe', options=chrome_options)\n",
        "    self.driver.set_window_size(800,700)\n",
        "    self.link = 'https://telefonesimportados.netlify.app/'\n",
        "    print(self.driver.title)\n",
        "    self.lista_nome_celulares= []\n",
        "    self.lista_preco_celulares = []\n",
        "    self.driver.get(self.link)\n",
        "    sleep(2)\n",
        "    for p in range(5):\n",
        "      item = 1\n",
        "      for i in range(12):\n",
        "        lista_nomes = self.driver.find_elements_by_xpath(\n",
        "            f'/html/body/div[5]/div[2]/div[1]/div[{item}]/div/h2/a')\n",
        "        self.lista_nome_celulares.append(lista_nomes[0].text)\n",
        "        sleep(1)\n",
        "        lista_precos = self.driver.find_elements_by_xpath(\n",
        "            f'//div[{item}]/div@class=\"single-shop-product\" and 1]/div[@class=\"product-carousel-price\" and 2]/ins[1]')\n",
        "        self.lista_preco_celulares.append(lista_precos[0].text)\n",
        "        item += 1\n",
        "        sleep(1)\n",
        "      try:\n",
        "        botao_proximo = self.driver.find_elements_by_xpath(\n",
        "            '/html/body/div[5]/div[2]/div/div/nav/ul/li[7]/a')\n",
        "        botao_proximo.click()\n",
        "        print(f'\\u001b[32m{\"Navegando para próxima página\"}\\u001b[0m')\n",
        "        sleep(2)\n",
        "\n",
        "      except NoSuchElementException:\n",
        "\n",
        "        print(f'\\001b[33m{\"Não há mais páginas!\"}\\u001b[0m')\n",
        "        print(f'\\001b[33m{\"Escaneiamento concluído!\"}\\u001b[0m')\n",
        "\n",
        "\n",
        "  def criar_planilha(self):\n",
        "      index = 2\n",
        "      planilha = openpyxl.Workbook()\n",
        "      celulares = planilha['Sheet']\n",
        "      celulares.title = 'Celulares'\n",
        "      celulares['A1'] = 'Nome'\n",
        "      celulares['B1'] = 'Preço'\n",
        "      for nome, preco in zip(self.lista_nome_celulares, self.lista_preco_celulares):\n",
        "        celulares.cell(column=1, row=index, value=nome)\n",
        "        celulares.cell(column=2, rox=index, value=preco)\n",
        "        index += 1\n",
        "      planilha.save(\"planilha_de_precos.xlsx\")\n",
        "\n",
        "      print(f'\\u001b[32m{\"Planilha criada com sucesso!\"}\\u001b[0m')\n",
        "\n",
        "\n",
        "  def enviar_email_cliente(self,endereco,senha):\n",
        "    msg = EmailMessage()\n",
        "    msg['Subject'] = 'planilha de Preços de telefones importados'\n",
        "    msg['From'] = endereco\n",
        "    msg['To'] = self.emailmsg.set_content('Olá, a sua planilha chegou!')\n",
        "    arquivos = [\"planilha_de_precos.xlsx\"]\n",
        "    for arquivo in arquivos:\n",
        "      with open(arquivo, 'rb') as arq:\n",
        "        dados = arq.read()\n",
        "        nome_arquivo = arq.name\n",
        "      msg.add_attachment(dados, maintype='application',\n",
        "                         subtype='octet-stream',filename=nome_arquivo)\n",
        "    server = smtplib.SMTP('imap.gmail.com', 587)\n",
        "    server.ehlo()\n",
        "    server.starttls()\n",
        "    server.login(endereco, senha, initial_response_ok=True)\n",
        "    server.send_message(msg)\n",
        "    print(f'\\u001b[32m{\"Enviando email para destinatário\"}\\u001b[0m')\n",
        "\n",
        "    server.quit()\n",
        "\n",
        "\n",
        "\n",
        "start = Scrappy()\n",
        "start.iniciar()\n",
        "\n",
        "\n"
      ],
      "metadata": {
        "colab": {
          "base_uri": "https://localhost:8080/",
          "height": 412
        },
        "id": "TOMmvcR-U5z7",
        "outputId": "2cd167d2-67d7-4487-cdd7-3bcefbde0a70"
      },
      "execution_count": null,
      "outputs": [
        {
          "output_type": "error",
          "ename": "ImportError",
          "evalue": "ignored",
          "traceback": [
            "\u001b[0;31m---------------------------------------------------------------------------\u001b[0m",
            "\u001b[0;31mImportError\u001b[0m                               Traceback (most recent call last)",
            "\u001b[0;32m<ipython-input-12-39a50388b99e>\u001b[0m in \u001b[0;36m<cell line: 4>\u001b[0;34m()\u001b[0m\n\u001b[1;32m      2\u001b[0m \u001b[0;32mfrom\u001b[0m \u001b[0mselenium\u001b[0m\u001b[0;34m.\u001b[0m\u001b[0mwebdriver\u001b[0m\u001b[0;34m.\u001b[0m\u001b[0mchrome\u001b[0m\u001b[0;34m.\u001b[0m\u001b[0moptions\u001b[0m \u001b[0;32mimport\u001b[0m \u001b[0mOptions\u001b[0m\u001b[0;34m\u001b[0m\u001b[0;34m\u001b[0m\u001b[0m\n\u001b[1;32m      3\u001b[0m \u001b[0;32mfrom\u001b[0m \u001b[0mselenium\u001b[0m\u001b[0;34m.\u001b[0m\u001b[0mwebdriver\u001b[0m\u001b[0;34m.\u001b[0m\u001b[0mcommon\u001b[0m\u001b[0;34m.\u001b[0m\u001b[0mby\u001b[0m \u001b[0;32mimport\u001b[0m \u001b[0mBy\u001b[0m\u001b[0;34m\u001b[0m\u001b[0;34m\u001b[0m\u001b[0m\n\u001b[0;32m----> 4\u001b[0;31m \u001b[0;32mfrom\u001b[0m \u001b[0mselenium\u001b[0m\u001b[0;34m.\u001b[0m\u001b[0mwebdriver\u001b[0m\u001b[0;34m.\u001b[0m\u001b[0msupport\u001b[0m\u001b[0;34m.\u001b[0m\u001b[0mexpected_conditions\u001b[0m \u001b[0;32mimport\u001b[0m \u001b[0m_find_elements\u001b[0m\u001b[0;34m\u001b[0m\u001b[0;34m\u001b[0m\u001b[0m\n\u001b[0m\u001b[1;32m      5\u001b[0m \u001b[0;32mfrom\u001b[0m \u001b[0mselenium\u001b[0m\u001b[0;34m.\u001b[0m\u001b[0mwebdriver\u001b[0m\u001b[0;34m.\u001b[0m\u001b[0msupport\u001b[0m\u001b[0;34m.\u001b[0m\u001b[0mui\u001b[0m \u001b[0;32mimport\u001b[0m \u001b[0mWebDriverWait\u001b[0m\u001b[0;34m\u001b[0m\u001b[0;34m\u001b[0m\u001b[0m\n\u001b[1;32m      6\u001b[0m \u001b[0;32mfrom\u001b[0m \u001b[0mselenium\u001b[0m\u001b[0;34m.\u001b[0m\u001b[0mcommon\u001b[0m\u001b[0;34m.\u001b[0m\u001b[0mexceptions\u001b[0m \u001b[0;32mimport\u001b[0m \u001b[0;34m*\u001b[0m\u001b[0;34m\u001b[0m\u001b[0;34m\u001b[0m\u001b[0m\n",
            "\u001b[0;31mImportError\u001b[0m: cannot import name '_find_elements' from 'selenium.webdriver.support.expected_conditions' (/usr/local/lib/python3.10/dist-packages/selenium/webdriver/support/expected_conditions.py)",
            "",
            "\u001b[0;31m---------------------------------------------------------------------------\u001b[0;32m\nNOTE: If your import is failing due to a missing package, you can\nmanually install dependencies using either !pip or !apt.\n\nTo view examples of installing some common dependencies, click the\n\"Open Examples\" button below.\n\u001b[0;31m---------------------------------------------------------------------------\u001b[0m\n"
          ],
          "errorDetails": {
            "actions": [
              {
                "action": "open_url",
                "actionText": "Open Examples",
                "url": "/notebooks/snippets/importing_libraries.ipynb"
              }
            ]
          }
        }
      ]
    },
    {
      "cell_type": "code",
      "source": [],
      "metadata": {
        "id": "8XpyoTRxWprc"
      },
      "execution_count": null,
      "outputs": []
    }
  ]
}